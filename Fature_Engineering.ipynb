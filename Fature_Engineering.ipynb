{
  "nbformat": 4,
  "nbformat_minor": 0,
  "metadata": {
    "colab": {
      "name": "Fature_Engineering.ipynb",
      "version": "0.3.2",
      "provenance": [],
      "toc_visible": true,
      "include_colab_link": true
    },
    "kernelspec": {
      "name": "python3",
      "display_name": "Python 3"
    }
  },
  "cells": [
    {
      "cell_type": "markdown",
      "metadata": {
        "id": "view-in-github",
        "colab_type": "text"
      },
      "source": [
        "<a href=\"https://colab.research.google.com/github/pceuropa/machine_learning/blob/master/Fature_Engineering.ipynb\" target=\"_parent\"><img src=\"https://colab.research.google.com/assets/colab-badge.svg\" alt=\"Open In Colab\"/></a>"
      ]
    },
    {
      "metadata": {
        "id": "NqxqJ7J0t5Pm",
        "colab_type": "text"
      },
      "cell_type": "markdown",
      "source": [
        "# Feature Engineering: Filtering and Scaling"
      ]
    },
    {
      "metadata": {
        "id": "R7tC_yDlwTlR",
        "colab_type": "code",
        "colab": {}
      },
      "cell_type": "code",
      "source": [
        ""
      ],
      "execution_count": 0,
      "outputs": []
    },
    {
      "metadata": {
        "id": "QYNJkWyAvoq2",
        "colab_type": "code",
        "colab": {}
      },
      "cell_type": "code",
      "source": [
        ""
      ],
      "execution_count": 0,
      "outputs": []
    },
    {
      "metadata": {
        "id": "-ESuTZDGtNaY",
        "colab_type": "code",
        "colab": {}
      },
      "cell_type": "code",
      "source": [
        ""
      ],
      "execution_count": 0,
      "outputs": []
    },
    {
      "metadata": {
        "id": "yBpaVhFBt916",
        "colab_type": "text"
      },
      "cell_type": "markdown",
      "source": [
        "## Scaling\n",
        "Many algorithms are sensitive to feature being on diffrent scales, e.g. gradient descent and kNN\n",
        "\n",
        "**Solution:**\n",
        "Aligh features onto the same scale\n",
        "\n",
        "\n",
        "**Diffrent scales**\n",
        "\n",
        "Some algorithms, like decision tree and reandom forests, aren't sensitive to fatures on diffrent scales\n",
        "\n",
        "**Important**: Fit the scaler to training data only, then transform both train and validation data\n"
      ]
    },
    {
      "metadata": {
        "id": "g0X-ejjxuaAZ",
        "colab_type": "code",
        "colab": {}
      },
      "cell_type": "code",
      "source": [
        ""
      ],
      "execution_count": 0,
      "outputs": []
    }
  ]
}