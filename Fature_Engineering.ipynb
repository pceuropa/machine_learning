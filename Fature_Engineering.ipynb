{
  "nbformat": 4,
  "nbformat_minor": 0,
  "metadata": {
    "colab": {
      "name": "Fature_Engineering.ipynb",
      "version": "0.3.2",
      "provenance": [],
      "collapsed_sections": [
        "mll_jisUCcmN",
        "9azY5f01C58N",
        "qMIUS1fCCy3l",
        "VYiz-iZeDQ3z"
      ],
      "toc_visible": true,
      "include_colab_link": true
    },
    "kernelspec": {
      "name": "python3",
      "display_name": "Python 3"
    }
  },
  "cells": [
    {
      "cell_type": "markdown",
      "metadata": {
        "id": "view-in-github",
        "colab_type": "text"
      },
      "source": [
        "<a href=\"https://colab.research.google.com/github/pceuropa/machine_learning/blob/master/Fature_Engineering.ipynb\" target=\"_parent\"><img src=\"https://colab.research.google.com/assets/colab-badge.svg\" alt=\"Open In Colab\"/></a>"
      ]
    },
    {
      "metadata": {
        "id": "NqxqJ7J0t5Pm",
        "colab_type": "text"
      },
      "cell_type": "markdown",
      "source": [
        "# Feature Engineering"
      ]
    },
    {
      "metadata": {
        "id": "mll_jisUCcmN",
        "colab_type": "text"
      },
      "cell_type": "markdown",
      "source": [
        "## Filtering and Scaling"
      ]
    },
    {
      "metadata": {
        "id": "yBpaVhFBt916",
        "colab_type": "text"
      },
      "cell_type": "markdown",
      "source": [
        "Many [algorithms](https://en.wikipedia.org/wiki/Algorithm) are sensitive to feature being on diffrent scales, e.g. [gradient descent](https://ml-cheatsheet.readthedocs.io/en/latest/gradient_descent.html) and kNN\n",
        "\n",
        "**Solution:**\n",
        "Aligh features onto the same scale\n",
        "\n",
        "\n",
        "**Diffrent scales**\n",
        "\n",
        "Some algorithms, like [decision tree](https://en.wikipedia.org/wiki/Decision_tree) and [random forests](https://towardsdatascience.com/the-random-forest-algorithm-d457d499ffcd), **aren't sensitive** to fatures on diffrent scales\n",
        "\n",
        "**Important**: Fit the scaler to training data only, then transform both train and validation data\n",
        "\n",
        "\n",
        "Common choices in sklearn\n",
        "\n",
        "- Normalizer \n",
        "- Mean/variance standarization\n",
        "- MinMax scaling\n",
        "- Maxabs scaling\n",
        "- Robust scaling\n",
        "\n",
        "Normalizer (one row) - scaling (one column)\n",
        "\n",
        "\n"
      ]
    },
    {
      "metadata": {
        "id": "9azY5f01C58N",
        "colab_type": "text"
      },
      "cell_type": "markdown",
      "source": [
        "### Mean/Variance Standarization"
      ]
    },
    {
      "metadata": {
        "id": "r-Rftj007eg6",
        "colab_type": "text"
      },
      "cell_type": "markdown",
      "source": [
        "$\\mu$ - [mean](https://colab.research.google.com/drive/1SauArq6_5lN_9uvcxJ3DYBeTZ81T2Rbp#scrollTo=1jFkn9tfeqYX)\n",
        "$\\sigma$ - standard deviation\n",
        "\n",
        "Transform :  $$ x_{i,j} = \\frac{x_j -  \\mu_x}{\\sigma}$$"
      ]
    },
    {
      "metadata": {
        "id": "g0X-ejjxuaAZ",
        "colab_type": "code",
        "colab": {
          "base_uri": "https://localhost:8080/",
          "height": 191
        },
        "outputId": "9cccfaef-6de3-409c-ef1d-b43f0f148385"
      },
      "cell_type": "code",
      "source": [
        "from sklearn.preprocessing import StandardScaler\n",
        "\n",
        "data = [[0, 0], [0, 0], [1, 1], [1, 1]]\n",
        "scaler = StandardScaler()\n",
        "\n",
        "print('Algorithm:', scaler.fit(data), '\\n')\n",
        "print(scaler.mean_, '\\n')\n",
        "print(scaler.transform(data), '\\n')\n",
        "print(scaler.transform([[2, 2]]))"
      ],
      "execution_count": 9,
      "outputs": [
        {
          "output_type": "stream",
          "text": [
            "Algorithm: StandardScaler(copy=True, with_mean=True, with_std=True) \n",
            "\n",
            "[0.5 0.5] \n",
            "\n",
            "[[-1. -1.]\n",
            " [-1. -1.]\n",
            " [ 1.  1.]\n",
            " [ 1.  1.]] \n",
            "\n",
            "[[3. 3.]]\n"
          ],
          "name": "stdout"
        }
      ]
    },
    {
      "metadata": {
        "id": "qMIUS1fCCy3l",
        "colab_type": "text"
      },
      "cell_type": "markdown",
      "source": [
        "### MinMax Scaling"
      ]
    },
    {
      "metadata": {
        "id": "XYunSv4Q73_d",
        "colab_type": "text"
      },
      "cell_type": "markdown",
      "source": [
        "Advantage: Robust to small standard devations\n",
        "\n",
        "Transform: $$x_i = \\frac{x_i - x_{min}}{x_{max} - x_{min}}$$\n",
        "\n",
        "Scale values so that:\n",
        "\n",
        "minimum = 0\n",
        "\n",
        "maximum = 1"
      ]
    },
    {
      "metadata": {
        "id": "fgFS55AX2pN0",
        "colab_type": "code",
        "colab": {
          "base_uri": "https://localhost:8080/",
          "height": 312
        },
        "outputId": "cee3ce63-3225-4beb-c80d-dc9e8f063d24"
      },
      "cell_type": "code",
      "source": [
        "from sklearn.preprocessing import MinMaxScaler\n",
        "\n",
        "d = [[-1, 2], [-0.5, 6], [0, 10], [1, 18]]\n",
        "scaler = MinMaxScaler()\n",
        "\n",
        "print('Algorithm:', scaler.fit(d), '\\n')\n",
        "print('Data min:', scaler.data_min_)\n",
        "print('Data max:', scaler.data_max_, '\\n')\n",
        "print('Transform:')\n",
        "print(scaler.transform(d), '\\n')\n",
        "print(scaler.transform([[2, 2]]), '\\n')\n",
        "\n",
        "scaler.fit_transform(d)\n"
      ],
      "execution_count": 16,
      "outputs": [
        {
          "output_type": "stream",
          "text": [
            "Algorithm: MinMaxScaler(copy=True, feature_range=(0, 1)) \n",
            "\n",
            "Data min: [-1.  2.]\n",
            "Data max: [ 1. 18.] \n",
            "\n",
            "Transform:\n",
            "[[0.   0.  ]\n",
            " [0.25 0.25]\n",
            " [0.5  0.5 ]\n",
            " [1.   1.  ]] \n",
            "\n",
            "[[1.5 0. ]] \n",
            "\n"
          ],
          "name": "stdout"
        },
        {
          "output_type": "execute_result",
          "data": {
            "text/plain": [
              "array([[0.  , 0.  ],\n",
              "       [0.25, 0.25],\n",
              "       [0.5 , 0.5 ],\n",
              "       [1.  , 1.  ]])"
            ]
          },
          "metadata": {
            "tags": []
          },
          "execution_count": 16
        }
      ]
    },
    {
      "metadata": {
        "id": "VYiz-iZeDQ3z",
        "colab_type": "text"
      },
      "cell_type": "markdown",
      "source": [
        "### Normalizer"
      ]
    },
    {
      "metadata": {
        "id": "5l1XDgj7BEIl",
        "colab_type": "text"
      },
      "cell_type": "markdown",
      "source": [
        "Transform :  $$ x_{i,j} = \\frac{x_j -  \\mu_x}{\\sigma_x}$$\n",
        "Rescales $x_j$ to unit norm based on\n",
        "- L1 norm\n",
        "- L2 norm\n",
        "- Max norm"
      ]
    },
    {
      "metadata": {
        "id": "Q7h043ED9djA",
        "colab_type": "code",
        "colab": {
          "base_uri": "https://localhost:8080/",
          "height": 69
        },
        "outputId": "9a1350cd-b396-4a1a-9077-01aca11aa845"
      },
      "cell_type": "code",
      "source": [
        "from sklearn.preprocessing import Normalizer\n",
        "X = [[4, 1, 2, 2],\n",
        "     [1, 3, 9, 3],\n",
        "     [5, 7, 5, 1]]\n",
        "transformer = Normalizer().fit(X) # fit does nothing.\n",
        "transformer.transform(X)"
      ],
      "execution_count": 20,
      "outputs": [
        {
          "output_type": "execute_result",
          "data": {
            "text/plain": [
              "array([[0.8, 0.2, 0.4, 0.4],\n",
              "       [0.1, 0.3, 0.9, 0.3],\n",
              "       [0.5, 0.7, 0.5, 0.1]])"
            ]
          },
          "metadata": {
            "tags": []
          },
          "execution_count": 20
        }
      ]
    }
  ]
}